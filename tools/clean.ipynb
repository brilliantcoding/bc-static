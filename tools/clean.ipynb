{
 "cells": [
  {
   "cell_type": "code",
   "execution_count": 25,
   "metadata": {
    "collapsed": true
   },
   "outputs": [],
   "source": [
    "import os\n",
    "import re\n",
    "\n",
    "# wget --page-requisites --mirror http://localhost:32771\n",
    "# cp -rf ./localhost\\:32771/* /mnt/c/repos/bc-static/"
   ]
  },
  {
   "cell_type": "code",
   "execution_count": 26,
   "metadata": {},
   "outputs": [
    {
     "name": "stdout",
     "output_type": "stream",
     "text": [
      "Files found: 123\n"
     ]
    }
   ],
   "source": [
    "top = \"C:\\\\repos\\\\bc-static\"\n",
    "exclude = [\".git\"]\n",
    "global walk_results\n",
    "walk_results = []\n",
    "for root, dirs, files in os.walk(top, topdown=True):\n",
    "    dirs[:] = [d for d in dirs if d not in exclude]\n",
    "    files[:] = [f for f in files if f.endswith('index.html')]\n",
    "    walk_results.append({'root':root,'dirs':dirs,'files':files})\n",
    "    \n",
    "print(\"Files found: \" + str(len(walk_results)))"
   ]
  },
  {
   "cell_type": "code",
   "execution_count": 27,
   "metadata": {},
   "outputs": [
    {
     "name": "stdout",
     "output_type": "stream",
     "text": [
      "Feed files found: 33\nFeed files renamed: 32\n"
     ]
    }
   ],
   "source": [
    "feed_rename_count = 0\n",
    "feed_found_count = 0\n",
    "for result in walk_results:\n",
    "    if result['root'].endswith(\"feed\"):\n",
    "        feed_found_count = feed_found_count + 1\n",
    "        if len(result['files']) is not 0:\n",
    "            # Pre-existing rss.xml file might be there, delete it\n",
    "            if os.path.isfile(result['root']+'\\\\'+'rss.xml'):\n",
    "                os.remove(result['root']+'\\\\'+'rss.xml')\n",
    "            os.rename(result['root']+'\\\\'+result['files'][0], result['root']+'\\\\'+'rss.xml')\n",
    "            result['files'][0] = 'rss.xml'\n",
    "            feed_rename_count = feed_rename_count + 1\n",
    "print(\"Feed files found: \" + str(feed_found_count))\n",
    "print(\"Feed files renamed: \" + str(feed_rename_count))"
   ]
  },
  {
   "cell_type": "code",
   "execution_count": 28,
   "metadata": {},
   "outputs": [
    {
     "name": "stdout",
     "output_type": "stream",
     "text": [
      "Full paths found: 68\n"
     ]
    }
   ],
   "source": [
    "global full_paths\n",
    "full_paths = []\n",
    "for result in walk_results:\n",
    "    for file in result.get('files'):\n",
    "        full_path = os.path.join(result.get('root'), file)\n",
    "        full_paths.append(full_path)\n",
    "\n",
    "print(\"Full paths found: \" + str(len(full_paths)))"
   ]
  },
  {
   "cell_type": "code",
   "execution_count": 29,
   "metadata": {
    "collapsed": true
   },
   "outputs": [
    {
     "name": "stdout",
     "output_type": "stream",
     "text": [
      "(?i)http://localhost:32771->https://brilliantcoding.com\n(?i)http:\\\\/\\\\/localhost:32771->https:\\\\/\\\\/brilliantcoding.com\n(?i)/feed/(?!rss)->/feed/rss.xml\n<atom:link href=\"http://localhost/2015/12/21/refactoring-to-strategy-pattern-in-javascript/feed/\" rel=\"self\" type=\"application/rss+xml\" /><link>http://localhost:32771/2015/12/21/refactoring-to-strategy-pattern-in-javascript/</link>\n\n<atom:link href=\"http://localhost/2015/12/21/refactoring-to-strategy-pattern-in-javascript/feed/\" rel=\"self\" type=\"application/rss+xml\" /><link>https://brilliantcoding.com/2015/12/21/refactoring-to-strategy-pattern-in-javascript/</link>\n\nHTML Replacements:1\n<atom:link href=\"http://localhost/2015/12/21/refactoring-to-strategy-pattern-in-javascript/feed/\" rel=\"self\" type=\"application/rss+xml\" /><link>https://brilliantcoding.com/2015/12/21/refactoring-to-strategy-pattern-in-javascript/</link>\n\n<atom:link href=\"http://localhost/2015/12/21/refactoring-to-strategy-pattern-in-javascript/feed/rss.xml\" rel=\"self\" type=\"application/rss+xml\" /><link>https://brilliantcoding.com/2015/12/21/refactoring-to-strategy-pattern-in-javascript/</link>\n\nFeed Replacements:1\n<atom:link href=\"http://localhost/2015/12/22/open-source-programming-environments-that-make-coding-easier/feed/\" rel=\"self\" type=\"application/rss+xml\" /><link>http://localhost:32771/2015/12/22/open-source-programming-environments-that-make-coding-easier/</link>\n\n<atom:link href=\"http://localhost/2015/12/22/open-source-programming-environments-that-make-coding-easier/feed/\" rel=\"self\" type=\"application/rss+xml\" /><link>https://brilliantcoding.com/2015/12/22/open-source-programming-environments-that-make-coding-easier/</link>\n\nHTML Replacements:1\n<atom:link href=\"http://localhost/2015/12/22/open-source-programming-environments-that-make-coding-easier/feed/\" rel=\"self\" type=\"application/rss+xml\" /><link>https://brilliantcoding.com/2015/12/22/open-source-programming-environments-that-make-coding-easier/</link>\n\n<atom:link href=\"http://localhost/2015/12/22/open-source-programming-environments-that-make-coding-easier/feed/rss.xml\" rel=\"self\" type=\"application/rss+xml\" /><link>https://brilliantcoding.com/2015/12/22/open-source-programming-environments-that-make-coding-easier/</link>\n\nFeed Replacements:1\n<atom:link href=\"http://localhost/2015/12/28/refactoring-a-for-loop-to-a-lambda-in-java/feed/\" rel=\"self\" type=\"application/rss+xml\" /><link>http://localhost:32771/2015/12/28/refactoring-a-for-loop-to-a-lambda-in-java/</link>\n\n<atom:link href=\"http://localhost/2015/12/28/refactoring-a-for-loop-to-a-lambda-in-java/feed/\" rel=\"self\" type=\"application/rss+xml\" /><link>https://brilliantcoding.com/2015/12/28/refactoring-a-for-loop-to-a-lambda-in-java/</link>\n\nHTML Replacements:1\n<atom:link href=\"http://localhost/2015/12/28/refactoring-a-for-loop-to-a-lambda-in-java/feed/\" rel=\"self\" type=\"application/rss+xml\" /><link>https://brilliantcoding.com/2015/12/28/refactoring-a-for-loop-to-a-lambda-in-java/</link>\n\n<atom:link href=\"http://localhost/2015/12/28/refactoring-a-for-loop-to-a-lambda-in-java/feed/rss.xml\" rel=\"self\" type=\"application/rss+xml\" /><link>https://brilliantcoding.com/2015/12/28/refactoring-a-for-loop-to-a-lambda-in-java/</link>\n\nFeed Replacements:1\n<atom:link href=\"http://localhost/2016/03/24/jvm-programming-languages/feed/\" rel=\"self\" type=\"application/rss+xml\" /><link>http://localhost:32771/2016/03/24/jvm-programming-languages/</link>\n\n<atom:link href=\"http://localhost/2016/03/24/jvm-programming-languages/feed/\" rel=\"self\" type=\"application/rss+xml\" /><link>https://brilliantcoding.com/2016/03/24/jvm-programming-languages/</link>\n\nHTML Replacements:1\n<atom:link href=\"http://localhost/2016/03/24/jvm-programming-languages/feed/\" rel=\"self\" type=\"application/rss+xml\" /><link>https://brilliantcoding.com/2016/03/24/jvm-programming-languages/</link>\n\n<atom:link href=\"http://localhost/2016/03/24/jvm-programming-languages/feed/rss.xml\" rel=\"self\" type=\"application/rss+xml\" /><link>https://brilliantcoding.com/2016/03/24/jvm-programming-languages/</link>\n\nFeed Replacements:1\n"
     ]
    },
    {
     "name": "stdout",
     "output_type": "stream",
     "text": [
      "success\n"
     ]
    }
   ],
   "source": [
    "local_url = 'http://localhost:32771'\n",
    "public_url = 'https://brilliantcoding.com'\n",
    "local_url_json = local_url.replace('/','\\\\\\/')\n",
    "public_url_json = public_url.replace('/','\\\\\\/')\n",
    "html_pattern =re.compile('(?i){0}'.format(local_url))\n",
    "json_pattern = re.compile('(?i){0}'.format(local_url_json))\n",
    "print(html_pattern.pattern + '->' + public_url)\n",
    "print(json_pattern.pattern + '->' + public_url_json)\n",
    "\n",
    "original_feed_path = '/feed/(?!rss)'\n",
    "rss_feed_path = '/feed/rss.xml'\n",
    "feed_pattern = re.compile('(?i){0}'.format(original_feed_path))\n",
    "print(feed_pattern.pattern + '->' + rss_feed_path)\n",
    "\n",
    "i = 0\n",
    "for full_path in full_paths:\n",
    "    modified = False\n",
    "    with open(full_path, 'r', encoding='utf-8') as f:\n",
    "        lines = list(f)\n",
    "        out_lines = []\n",
    "        ii = 0\n",
    "        for line in lines:\n",
    "            html_match = html_pattern.search(line)\n",
    "            if (html_match != None):\n",
    "                modified = True\n",
    "                before_line = line\n",
    "                count = len(html_pattern.findall(line))\n",
    "                line = html_pattern.sub(public_url,line) \n",
    "                if i < 10 and ii <10:\n",
    "                    print(before_line)\n",
    "                    print(line)\n",
    "                    print('HTML Replacements:{0}'.format(count))\n",
    "            json_match = json_pattern.search(line)\n",
    "            if (json_match != None):\n",
    "                modified = True\n",
    "                before_line = line\n",
    "                count = len(json_pattern.findall(line))\n",
    "                line = json_pattern.sub(public_url_json,line)\n",
    "                if i < 10 and ii <10:\n",
    "                    print(before_line)\n",
    "                    print(line)\n",
    "                    print('Json Replacements:{0}'.format(count))\n",
    "            feed_match = feed_pattern.search(line)\n",
    "            if (feed_match != None):\n",
    "                modified = True\n",
    "                before_line = line\n",
    "                count = len(feed_pattern.findall(line))\n",
    "                line = feed_pattern.sub(rss_feed_path,line)\n",
    "                if i < 10 and ii <10:\n",
    "                    print(before_line)\n",
    "                    print(line)\n",
    "                    print('Feed Replacements:{0}'.format(count))\n",
    "                    \n",
    "            out_lines.append(line)\n",
    "\n",
    "            ii = ii + 1\n",
    "        if modified:    \n",
    "            with open(full_path, 'w', encoding='utf-8') as ff:\n",
    "                ff.writelines(out_lines)\n",
    "        i = i + 1\n",
    "print('success')"
   ]
  },
  {
   "cell_type": "code",
   "execution_count": null,
   "metadata": {},
   "outputs": [],
   "source": [
    ""
   ]
  }
 ],
 "metadata": {
  "kernelspec": {
   "display_name": "Python 2",
   "language": "python",
   "name": "python2"
  },
  "language_info": {
   "codemirror_mode": {
    "name": "ipython",
    "version": 2.0
   },
   "file_extension": ".py",
   "mimetype": "text/x-python",
   "name": "python",
   "nbconvert_exporter": "python",
   "pygments_lexer": "ipython2",
   "version": "2.7.6"
  }
 },
 "nbformat": 4,
 "nbformat_minor": 0
}